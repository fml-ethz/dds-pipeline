{
 "cells": [
  {
   "cell_type": "code",
   "execution_count": null,
   "id": "7cdafdff",
   "metadata": {},
   "outputs": [],
   "source": [
    "import pandas as pd\n",
    "import plotly.express as px"
   ]
  },
  {
   "cell_type": "markdown",
   "id": "c9717fcb",
   "metadata": {},
   "source": [
    "### set the path to the experiment folder"
   ]
  },
  {
   "cell_type": "code",
   "execution_count": null,
   "id": "a952ecbb",
   "metadata": {},
   "outputs": [],
   "source": [
    "path = '<path/to/experiment/folder>'"
   ]
  },
  {
   "cell_type": "markdown",
   "id": "7c38125a",
   "metadata": {},
   "source": [
    "# Overall error rate\n",
    "\n",
    "compares the overall error rates between single and clustered analysis, can only be plotted when both analysis types were performed"
   ]
  },
  {
   "cell_type": "code",
   "execution_count": null,
   "id": "e7cf5e17",
   "metadata": {},
   "outputs": [],
   "source": [
    "rates = {}\n",
    "for analysis in ['single', 'clustered']:\n",
    "    subpath = f'./{path}/analysis_{analysis}/'\n",
    "    rates[analysis] = open(f'{subpath}/errorrates_fw.txt', 'r').readline().split(',')\n",
    "    rates[analysis] = [float(rate) for rate in rates[analysis][1:]]\n",
    "\n",
    "df = pd.melt(pd.DataFrame(rates, index=['deletion', 'insertion', 'substitution']).T, var_name='Error type', value_name='Error rate', ignore_index=False)\n",
    "\n",
    "px.bar(\n",
    "    df,\n",
    "    x=df.index,\n",
    "    y='Error rate',\n",
    "    color='Error type',\n",
    "    title='Error rates between single and clustered analysis',\n",
    "    labels={'index': 'Analysis type', 'y': 'Error rate'},\n",
    "    template='simple_white',\n",
    "    width=800,\n",
    "    height=400,\n",
    ")\n",
    "\n",
    "# df"
   ]
  },
  {
   "cell_type": "markdown",
   "id": "b6514b04",
   "metadata": {},
   "source": [
    "## select analysis type\n",
    "\n",
    "the subsequent plots are specific to one analysis pipeline, which is defined with the selection below"
   ]
  },
  {
   "cell_type": "code",
   "execution_count": null,
   "id": "2ed5afb9",
   "metadata": {},
   "outputs": [],
   "source": [
    "analysis_type = 'analysis_single'\n",
    "\n",
    "# change to this to see analysis with clustered reads\n",
    "# analysis_type = 'analysis_clustered'"
   ]
  },
  {
   "cell_type": "markdown",
   "id": "718ddb6e",
   "metadata": {},
   "source": [
    "# Base bias in errors"
   ]
  },
  {
   "cell_type": "markdown",
   "id": "3d59a5a0",
   "metadata": {},
   "source": [
    "### for deletions"
   ]
  },
  {
   "cell_type": "code",
   "execution_count": null,
   "id": "74fae870",
   "metadata": {},
   "outputs": [],
   "source": [
    "bias = open(f'{path}/{analysis_type}/delbias_fw.txt', 'r').readline().split(',')\n",
    "bias = [float(bias) for bias in bias if bias]\n",
    "\n",
    "# stacked bar chart\n",
    "px.bar(\n",
    "    y=['', '', '', ''],\n",
    "    x=bias,\n",
    "    color=['A', 'C', 'G', 'T'],\n",
    "    labels={'x': 'Fraction of deletions', 'y': '', 'color': 'Base'},\n",
    "    title='Deletion bias',\n",
    "    template='simple_white',\n",
    "    orientation='h',\n",
    "    range_x=[0, 1],\n",
    "    width=800,\n",
    "    height=400,\n",
    ").update_layout(barmode='stack').update_yaxes(visible=False)"
   ]
  },
  {
   "cell_type": "markdown",
   "id": "298a9d8e",
   "metadata": {},
   "source": [
    "### for insertions"
   ]
  },
  {
   "cell_type": "code",
   "execution_count": null,
   "id": "0a9fd3c6",
   "metadata": {},
   "outputs": [],
   "source": [
    "bias = open(f'{path}/{analysis_type}/insbias_fw.txt', 'r').readline().split(',')\n",
    "bias = [float(bias) for bias in bias if bias]\n",
    "\n",
    "# stacked bar chart\n",
    "px.bar(\n",
    "    y=['', '', '', ''],\n",
    "    x=bias,\n",
    "    color=['A', 'C', 'G', 'T'],\n",
    "    labels={'x': 'Fraction of insertions', 'y': '', 'color': 'Base'},\n",
    "    title='Insertion bias',\n",
    "    template='simple_white',\n",
    "    orientation='h',\n",
    "    range_x=[0, 1],\n",
    "    width=800,\n",
    "    height=400,\n",
    ").update_layout(barmode='stack').update_yaxes(visible=False)"
   ]
  },
  {
   "cell_type": "markdown",
   "id": "e1df797c",
   "metadata": {},
   "source": [
    "### for substitions"
   ]
  },
  {
   "cell_type": "code",
   "execution_count": null,
   "id": "d2403bc2",
   "metadata": {},
   "outputs": [],
   "source": [
    "bias = open(f'{path}/{analysis_type}/subbias_fw.txt', 'r').readline().split(',')\n",
    "bias = [float(bias) for bias in bias if bias]\n",
    "\n",
    "# stacked bar chart\n",
    "px.bar(\n",
    "    y=['', '', '', '', '', '', '', '', '', '', '', ''],\n",
    "    x=bias,\n",
    "    color=['A2C', 'A2G', 'A2T', 'C2A', 'C2G', 'C2T', 'G2A', 'G2C', 'G2T', 'T2A', 'T2C', 'T2G'],\n",
    "    labels={'x': 'Fraction of substitutions', 'y': '', 'color': 'Base'},\n",
    "    title='Substitution bias',\n",
    "    template='simple_white',\n",
    "    orientation='h',\n",
    "    range_x=[0, 1],\n",
    "    width=800,\n",
    "    height=400,\n",
    ").update_layout(barmode='stack').update_yaxes(visible=False)"
   ]
  },
  {
   "cell_type": "markdown",
   "id": "9b221323",
   "metadata": {},
   "source": [
    "# Position bias in errors"
   ]
  },
  {
   "cell_type": "markdown",
   "id": "42fc7547",
   "metadata": {},
   "source": [
    "### for all error types together"
   ]
  },
  {
   "cell_type": "code",
   "execution_count": null,
   "id": "1a18ff34",
   "metadata": {},
   "outputs": [],
   "source": [
    "bias = []\n",
    "for errortype in ['del', 'ins', 'sub']:\n",
    "    data = open(f'{path}/{analysis_type}/{errortype}position_fw.txt', 'r').readline().split(',')\n",
    "    data = [float(d) for d in data]\n",
    "    bias.append(data)\n",
    "\n",
    "df = pd.DataFrame(bias, index=['deletion', 'insertion', 'substitution']).T\n",
    "\n",
    "px.line(\n",
    "    df,\n",
    "    x=list(range(1, len(bias[0]) + 1)),\n",
    "    y=df.columns,\n",
    "    labels={'x': 'Position in read', 'y': 'Rate of deletions', 'variable': 'Error type'},\n",
    "    title='Deletion position bias',\n",
    "    template='simple_white',\n",
    "    width=800,\n",
    "    height=400,\n",
    "    range_y=[0, None],\n",
    ")"
   ]
  },
  {
   "cell_type": "markdown",
   "id": "e4b9c2a1",
   "metadata": {},
   "source": [
    "### for deletions"
   ]
  },
  {
   "cell_type": "code",
   "execution_count": null,
   "id": "54450ba9",
   "metadata": {},
   "outputs": [],
   "source": [
    "bias = open(f'{path}/{analysis_type}/delposition_fw.txt', 'r').readline().split(',')\n",
    "bias = [float(bias) for bias in bias if bias]\n",
    "\n",
    "px.line(\n",
    "    x=list(range(1, len(bias) + 1)),\n",
    "    y=bias,\n",
    "    labels={'x': 'Position in read', 'y': 'Rate of deletions'},\n",
    "    title='Deletion position bias',\n",
    "    template='simple_white',\n",
    "    width=800,\n",
    "    height=400,\n",
    "    range_y=[0, None],\n",
    ")"
   ]
  },
  {
   "cell_type": "markdown",
   "id": "25fbd91a",
   "metadata": {},
   "source": [
    "### for insertions"
   ]
  },
  {
   "cell_type": "code",
   "execution_count": null,
   "id": "4c7dee69",
   "metadata": {},
   "outputs": [],
   "source": [
    "bias = open(f'{path}/{analysis_type}/insposition_fw.txt', 'r').readline().split(',')\n",
    "bias = [float(bias) for bias in bias if bias]\n",
    "\n",
    "px.line(\n",
    "    x=list(range(1, len(bias) + 1)),\n",
    "    y=bias,\n",
    "    labels={'x': 'Position in read', 'y': 'Rate of insertions'},\n",
    "    title='Insertion position bias',\n",
    "    template='simple_white',\n",
    "    width=800,\n",
    "    height=400,\n",
    "    range_y=[0, None],\n",
    ")"
   ]
  },
  {
   "cell_type": "markdown",
   "id": "81da1067",
   "metadata": {},
   "source": [
    "### for substitutions"
   ]
  },
  {
   "cell_type": "code",
   "execution_count": null,
   "id": "9340a951",
   "metadata": {},
   "outputs": [],
   "source": [
    "bias = open(f'{path}/{analysis_type}/subposition_fw.txt', 'r').readline().split(',')\n",
    "bias = [float(bias) for bias in bias if bias]\n",
    "\n",
    "px.line(\n",
    "    x=list(range(1, len(bias) + 1)),\n",
    "    y=bias,\n",
    "    labels={'x': 'Position in read', 'y': 'Rate of substitutions'},\n",
    "    title='Substitution position bias',\n",
    "    template='simple_white',\n",
    "    width=800,\n",
    "    height=400,\n",
    "    range_y=[0, None],\n",
    ")"
   ]
  }
 ],
 "metadata": {
  "kernelspec": {
   "display_name": "standard-3.12",
   "language": "python",
   "name": "python3"
  },
  "language_info": {
   "codemirror_mode": {
    "name": "ipython",
    "version": 3
   },
   "file_extension": ".py",
   "mimetype": "text/x-python",
   "name": "python",
   "nbconvert_exporter": "python",
   "pygments_lexer": "ipython3",
   "version": "3.12.10"
  }
 },
 "nbformat": 4,
 "nbformat_minor": 5
}
