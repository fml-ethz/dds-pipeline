{
 "cells": [
  {
   "cell_type": "code",
   "execution_count": null,
   "id": "7cdafdff",
   "metadata": {},
   "outputs": [],
   "source": [
    "import pandas as pd\n",
    "import plotly.express as px"
   ]
  },
  {
   "cell_type": "markdown",
   "id": "4ec8ae78",
   "metadata": {},
   "source": [
    "### set the path to the parent experiment folder"
   ]
  },
  {
   "cell_type": "code",
   "execution_count": null,
   "id": "ad090af0",
   "metadata": {},
   "outputs": [],
   "source": [
    "path = '<path/to/parent/folder>'"
   ]
  },
  {
   "cell_type": "markdown",
   "id": "a4d35a60",
   "metadata": {},
   "source": [
    "### set the sequence length and the number of sequences"
   ]
  },
  {
   "cell_type": "code",
   "execution_count": null,
   "id": "7d0a514b",
   "metadata": {},
   "outputs": [],
   "source": [
    "sequence_length = XXX\n",
    "n_sequences = XXX"
   ]
  },
  {
   "cell_type": "markdown",
   "id": "7c38125a",
   "metadata": {},
   "source": [
    "# Overall error rate and dropout\n",
    "\n",
    "compares the overall error rates between simple and full decoding, can only be plotted when both decoding types were performed"
   ]
  },
  {
   "cell_type": "code",
   "execution_count": null,
   "id": "e7cf5e17",
   "metadata": {},
   "outputs": [],
   "source": [
    "df = []\n",
    "for decoding in ['simple', 'full']:\n",
    "    idf = pd.read_csv(f'{path}errorperseq_batch_decode_{decoding}.txt', sep=',', names=['Experiment', 'Error rate'])\n",
    "    idf['group'] = decoding\n",
    "    df.append(idf)\n",
    "df = pd.concat(df, ignore_index=True)\n",
    "df['Error rate'] = df['Error rate'] / sequence_length\n",
    "\n",
    "px.bar(\n",
    "    df,\n",
    "    x='Experiment',\n",
    "    y='Error rate',\n",
    "    color='group',\n",
    "    title='Error rates between simple and full decoding',\n",
    "    labels={'group': 'Pipeline'},\n",
    "    template='simple_white',\n",
    "    width=800,\n",
    "    height=400,\n",
    ").update_layout(barmode='group')"
   ]
  },
  {
   "cell_type": "code",
   "execution_count": null,
   "id": "55c9b405",
   "metadata": {},
   "outputs": [],
   "source": [
    "df = []\n",
    "for decoding in ['simple', 'full']:\n",
    "    idf = pd.read_csv(f'{path}erasures_batch_decode_{decoding}.txt', sep=',', names=['Experiment', 'Dropout'])\n",
    "    idf['group'] = decoding\n",
    "    df.append(idf)\n",
    "df = pd.concat(df, ignore_index=True)\n",
    "df['Dropout'] = df['Dropout'] / n_sequences\n",
    "\n",
    "px.bar(\n",
    "    df,\n",
    "    x='Experiment',\n",
    "    y='Dropout',\n",
    "    color='group',\n",
    "    title='Dropout between simple and full decoding',\n",
    "    labels={'group': 'Pipeline'},\n",
    "    template='simple_white',\n",
    "    width=800,\n",
    "    height=400,\n",
    ").update_layout(barmode='group').update_yaxes(tickformat='1.0%')"
   ]
  },
  {
   "cell_type": "markdown",
   "id": "b2c356a6",
   "metadata": {},
   "source": [
    "## select decoding type\n",
    "\n",
    "the subsequent plots are specific to one decoding pipeline, which is defined with the selection below"
   ]
  },
  {
   "cell_type": "code",
   "execution_count": null,
   "id": "b9256af6",
   "metadata": {},
   "outputs": [],
   "source": [
    "decoding_type = 'decode_simple'\n",
    "\n",
    "# change to this to see decoding with clustered reads\n",
    "# decoding_type = 'decode_full'"
   ]
  },
  {
   "cell_type": "markdown",
   "id": "9e4bb7ac",
   "metadata": {},
   "source": [
    "# Error rate by experiment"
   ]
  },
  {
   "cell_type": "code",
   "execution_count": null,
   "id": "8073f252",
   "metadata": {},
   "outputs": [],
   "source": [
    "df = pd.read_csv(f'{path}errorperseq_batch_{decoding_type}.txt', sep=',', names=['Experiment', 'Error rate'])\n",
    "df['Error rate'] = df['Error rate'] / sequence_length\n",
    "\n",
    "px.bar(\n",
    "    df,\n",
    "    x='Experiment',\n",
    "    y='Error rate',\n",
    "    title='Error rates between experiments',\n",
    "    template='simple_white',\n",
    "    width=800,\n",
    "    height=400,\n",
    ").update_layout(barmode='group')"
   ]
  },
  {
   "cell_type": "markdown",
   "id": "8ed85e01",
   "metadata": {},
   "source": [
    "# Dropout by experiment"
   ]
  },
  {
   "cell_type": "code",
   "execution_count": null,
   "id": "115779d9",
   "metadata": {},
   "outputs": [],
   "source": [
    "df = pd.read_csv(f'{path}erasures_batch_{decoding_type}.txt', sep=',', names=['Experiment', 'Dropout'])\n",
    "df['Dropout'] = df['Dropout'] / n_sequences\n",
    "\n",
    "px.bar(\n",
    "    df,\n",
    "    x='Experiment',\n",
    "    y='Dropout',\n",
    "    title='Dropout between experiments',\n",
    "    template='simple_white',\n",
    "    width=800,\n",
    "    height=400,\n",
    ").update_layout(barmode='group').update_yaxes(tickformat='1.0%')"
   ]
  }
 ],
 "metadata": {
  "kernelspec": {
   "display_name": "standard-3.12",
   "language": "python",
   "name": "python3"
  },
  "language_info": {
   "codemirror_mode": {
    "name": "ipython",
    "version": 3
   },
   "file_extension": ".py",
   "mimetype": "text/x-python",
   "name": "python",
   "nbconvert_exporter": "python",
   "pygments_lexer": "ipython3",
   "version": "3.12.10"
  }
 },
 "nbformat": 4,
 "nbformat_minor": 5
}
