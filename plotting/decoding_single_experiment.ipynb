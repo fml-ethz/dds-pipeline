{
 "cells": [
  {
   "cell_type": "code",
   "execution_count": null,
   "id": "7cdafdff",
   "metadata": {},
   "outputs": [],
   "source": [
    "import plotly.express as px"
   ]
  },
  {
   "cell_type": "markdown",
   "id": "c9717fcb",
   "metadata": {},
   "source": [
    "### set the path to the experiment folder"
   ]
  },
  {
   "cell_type": "code",
   "execution_count": null,
   "id": "a952ecbb",
   "metadata": {},
   "outputs": [],
   "source": [
    "path = '<path/to/experiment/folder>'"
   ]
  },
  {
   "cell_type": "markdown",
   "id": "a4d35a60",
   "metadata": {},
   "source": [
    "### set the sequence length and the number of sequences"
   ]
  },
  {
   "cell_type": "code",
   "execution_count": null,
   "id": "7d0a514b",
   "metadata": {},
   "outputs": [],
   "source": [
    "sequence_length = XXX\n",
    "n_sequences = XXX"
   ]
  },
  {
   "cell_type": "markdown",
   "id": "7c38125a",
   "metadata": {},
   "source": [
    "# Overall error rate and dropout\n",
    "\n",
    "compares the overall error rates between simple and full decoding, can only be plotted when both decoding types were performed"
   ]
  },
  {
   "cell_type": "code",
   "execution_count": null,
   "id": "e7cf5e17",
   "metadata": {},
   "outputs": [],
   "source": [
    "rates = {}\n",
    "for decoding in ['simple', 'full']:\n",
    "    subpath = f'./{path}decoding_{decoding}/'\n",
    "    rates[decoding] = float(open(f'{subpath}/errorperseq.txt', 'r').readline())/sequence_length\n",
    "\n",
    "px.bar(\n",
    "    x=rates.keys(),\n",
    "    y=rates.values(),\n",
    "    labels={'x': 'Decoding type', 'y': 'Error rate'},\n",
    "    title='Error rate per decoding type',\n",
    "    template='simple_white',\n",
    "    width=800,\n",
    "    height=400,\n",
    ")"
   ]
  },
  {
   "cell_type": "code",
   "execution_count": null,
   "id": "55c9b405",
   "metadata": {},
   "outputs": [],
   "source": [
    "dropout = {}\n",
    "for decoding in ['simple', 'full']:\n",
    "    subpath = f'./{path}decoding_{decoding}/'\n",
    "    dropout[decoding] = float(open(f'{subpath}/erasures.txt', 'r').readline())/n_sequences\n",
    "\n",
    "px.bar(\n",
    "    x=dropout.keys(),\n",
    "    y=dropout.values(),\n",
    "    labels={'x': 'Decoding type', 'y': 'Sequence dropout'},\n",
    "    title='Dropout per decoding type',\n",
    "    template='simple_white',\n",
    "    width=800,\n",
    "    height=400,\n",
    ").update_yaxes(tickformat='1.1%')"
   ]
  }
 ],
 "metadata": {
  "kernelspec": {
   "display_name": "standard-3.12",
   "language": "python",
   "name": "python3"
  },
  "language_info": {
   "codemirror_mode": {
    "name": "ipython",
    "version": 3
   },
   "file_extension": ".py",
   "mimetype": "text/x-python",
   "name": "python",
   "nbconvert_exporter": "python",
   "pygments_lexer": "ipython3",
   "version": "3.12.10"
  }
 },
 "nbformat": 4,
 "nbformat_minor": 5
}
