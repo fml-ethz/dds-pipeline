{
 "cells": [
  {
   "cell_type": "code",
   "execution_count": null,
   "id": "7cdafdff",
   "metadata": {},
   "outputs": [],
   "source": [
    "import pandas as pd\n",
    "import plotly.express as px"
   ]
  },
  {
   "cell_type": "markdown",
   "id": "c9717fcb",
   "metadata": {},
   "source": [
    "### set the path to the parent experiment folder"
   ]
  },
  {
   "cell_type": "code",
   "execution_count": null,
   "id": "a952ecbb",
   "metadata": {},
   "outputs": [],
   "source": [
    "path = '<path/to/parent/folder>'"
   ]
  },
  {
   "cell_type": "markdown",
   "id": "7c38125a",
   "metadata": {},
   "source": [
    "# Overall error rate\n",
    "\n",
    "compares the overall error rates between single and clustered analysis, can only be plotted when both analysis types were performed"
   ]
  },
  {
   "cell_type": "code",
   "execution_count": null,
   "id": "e7cf5e17",
   "metadata": {},
   "outputs": [],
   "source": [
    "df = []\n",
    "for analysis in ['single', 'clustered']:\n",
    "    idf = pd.read_csv(f'{path}errorrates_fw_batch_analyze_{analysis}.txt', sep=',', names=['experiment', 'match', 'deletion', 'insertion', 'substitution'])\n",
    "    idf['group'] = analysis\n",
    "    df.append(idf)\n",
    "df = pd.concat(df, ignore_index=True)\n",
    "df = df.drop(columns=['match'])\n",
    "df = pd.melt(df, id_vars=['experiment', 'group'], var_name='Error type', value_name='Error rate')\n",
    "\n",
    "px.bar(\n",
    "    df,\n",
    "    x='experiment',\n",
    "    y='Error rate',\n",
    "    color='Error type',\n",
    "    pattern_shape='group',\n",
    "    title='Error rates between single and clustered analysis',\n",
    "    labels={'experiment': 'Experiment', 'group': 'Analysis'},\n",
    "    template='simple_white',\n",
    "    width=800,\n",
    "    height=400,\n",
    ").update_layout(barmode='group')"
   ]
  },
  {
   "cell_type": "markdown",
   "id": "b6514b04",
   "metadata": {},
   "source": [
    "## select analysis type\n",
    "\n",
    "the subsequent plots are specific to one analysis pipeline, which is defined with the selection below"
   ]
  },
  {
   "cell_type": "code",
   "execution_count": null,
   "id": "2ed5afb9",
   "metadata": {},
   "outputs": [],
   "source": [
    "analysis_type = 'analyze_single'\n",
    "\n",
    "# change to this to see analysis with clustered reads\n",
    "# analysis_type = 'analyze_clustered'"
   ]
  },
  {
   "cell_type": "markdown",
   "id": "299ea5fa",
   "metadata": {},
   "source": [
    "# Error rate by experiment"
   ]
  },
  {
   "cell_type": "code",
   "execution_count": null,
   "id": "867de309",
   "metadata": {},
   "outputs": [],
   "source": [
    "df = pd.read_csv(f'{path}errorrates_fw_batch_{analysis_type}.txt', sep=',', names=['experiment', 'match', 'deletion', 'insertion', 'substitution'])\n",
    "df = df.drop(columns=['match'])\n",
    "df = pd.melt(df, id_vars=['experiment'], var_name='Error type', value_name='Error rate')\n",
    "\n",
    "px.bar(\n",
    "    df,\n",
    "    x='experiment',\n",
    "    y='Error rate',\n",
    "    color='Error type',\n",
    "    title='Error rates between experiments',\n",
    "    labels={'experiment': 'Experiment', 'group': 'Analysis'},\n",
    "    template='simple_white',\n",
    "    width=800,\n",
    "    height=400,\n",
    ").update_layout(barmode='stack')"
   ]
  },
  {
   "cell_type": "markdown",
   "id": "9b221323",
   "metadata": {},
   "source": [
    "# Position bias in errors between experiments"
   ]
  },
  {
   "cell_type": "markdown",
   "id": "e4b9c2a1",
   "metadata": {},
   "source": [
    "### for deletions"
   ]
  },
  {
   "cell_type": "code",
   "execution_count": null,
   "id": "54450ba9",
   "metadata": {},
   "outputs": [],
   "source": [
    "df = pd.read_csv(f'{path}delposition_fw_batch_{analysis_type}.txt', sep=',', header=None)\n",
    "df = df.rename(columns={0: 'Experiment'})\n",
    "df = pd.melt(df, id_vars=['Experiment'], var_name='Position in read', value_name='Rate of deletions')\n",
    "\n",
    "px.line(\n",
    "    df,\n",
    "    x='Position in read',\n",
    "    y='Rate of deletions',\n",
    "    color='Experiment',\n",
    "    title='Deletion position bias',\n",
    "    template='simple_white',\n",
    "    width=800,\n",
    "    height=400,\n",
    "    range_y=[0, None],\n",
    ")"
   ]
  },
  {
   "cell_type": "markdown",
   "id": "25fbd91a",
   "metadata": {},
   "source": [
    "### for insertions"
   ]
  },
  {
   "cell_type": "code",
   "execution_count": null,
   "id": "4c7dee69",
   "metadata": {},
   "outputs": [],
   "source": [
    "df = pd.read_csv(f'{path}insposition_fw_batch_{analysis_type}.txt', sep=',', header=None)\n",
    "df = df.rename(columns={0: 'Experiment'})\n",
    "df = pd.melt(df, id_vars=['Experiment'], var_name='Position in read', value_name='Rate of insertions')\n",
    "\n",
    "px.line(\n",
    "    df,\n",
    "    x='Position in read',\n",
    "    y='Rate of insertions',\n",
    "    color='Experiment',\n",
    "    title='Insertion position bias',\n",
    "    template='simple_white',\n",
    "    width=800,\n",
    "    height=400,\n",
    "    range_y=[0, None],\n",
    ")"
   ]
  },
  {
   "cell_type": "markdown",
   "id": "81da1067",
   "metadata": {},
   "source": [
    "### for substitutions"
   ]
  },
  {
   "cell_type": "code",
   "execution_count": null,
   "id": "9340a951",
   "metadata": {},
   "outputs": [],
   "source": [
    "df = pd.read_csv(f'{path}subposition_fw_batch_{analysis_type}.txt', sep=',', header=None)\n",
    "df = df.rename(columns={0: 'Experiment'})\n",
    "df = pd.melt(df, id_vars=['Experiment'], var_name='Position in read', value_name='Rate of substitutions')\n",
    "\n",
    "px.line(\n",
    "    df,\n",
    "    x='Position in read',\n",
    "    y='Rate of substitutions',\n",
    "    color='Experiment',\n",
    "    title='Substitution position bias',\n",
    "    template='simple_white',\n",
    "    width=800,\n",
    "    height=400,\n",
    "    range_y=[0, None],\n",
    ")"
   ]
  }
 ],
 "metadata": {
  "kernelspec": {
   "display_name": "standard-3.12",
   "language": "python",
   "name": "python3"
  },
  "language_info": {
   "codemirror_mode": {
    "name": "ipython",
    "version": 3
   },
   "file_extension": ".py",
   "mimetype": "text/x-python",
   "name": "python",
   "nbconvert_exporter": "python",
   "pygments_lexer": "ipython3",
   "version": "3.12.10"
  }
 },
 "nbformat": 4,
 "nbformat_minor": 5
}
